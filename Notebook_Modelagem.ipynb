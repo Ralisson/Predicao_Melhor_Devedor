{
 "cells": [
  {
   "cell_type": "markdown",
   "metadata": {},
   "source": [
    ">> # Modelo preditivo -  EDP\n",
    "- Modelagem preditiva para devedor mais propenso a pagar\n",
    "- Este Jupyter contém as etapas de ETL e Modelagem\n",
    "- G:\\Drives compartilhados\\Inteligência de Negócios 2\\BORDEROS\\BORDEROS 2022\\EDP"
   ]
  },
  {
   "cell_type": "markdown",
   "metadata": {},
   "source": [
    "# Importando pacotes e bibliotecas"
   ]
  },
  {
   "cell_type": "code",
   "execution_count": 5,
   "metadata": {},
   "outputs": [
    {
     "ename": "ModuleNotFoundError",
     "evalue": "No module named 'ayx'",
     "output_type": "error",
     "traceback": [
      "\u001b[1;31m---------------------------------------------------------------------------\u001b[0m",
      "\u001b[1;31mModuleNotFoundError\u001b[0m                       Traceback (most recent call last)",
      "\u001b[1;32m<ipython-input-5-76cb838b72b2>\u001b[0m in \u001b[0;36m<module>\u001b[1;34m\u001b[0m\n\u001b[0;32m      7\u001b[0m \u001b[1;32mimport\u001b[0m \u001b[0msqlalchemy\u001b[0m \u001b[1;32mas\u001b[0m \u001b[0msql\u001b[0m\u001b[1;33m\u001b[0m\u001b[1;33m\u001b[0m\u001b[0m\n\u001b[0;32m      8\u001b[0m \u001b[1;32mfrom\u001b[0m \u001b[0msqlalchemy\u001b[0m \u001b[1;32mimport\u001b[0m \u001b[0mcreate_engine\u001b[0m\u001b[1;33m\u001b[0m\u001b[1;33m\u001b[0m\u001b[0m\n\u001b[1;32m----> 9\u001b[1;33m \u001b[1;32mfrom\u001b[0m \u001b[0mayx\u001b[0m \u001b[1;32mimport\u001b[0m \u001b[0mAlteryx\u001b[0m\u001b[1;33m\u001b[0m\u001b[1;33m\u001b[0m\u001b[0m\n\u001b[0m",
      "\u001b[1;31mModuleNotFoundError\u001b[0m: No module named 'ayx'"
     ]
    }
   ],
   "source": [
    "import pandas as pd\n",
    "import numpy as np\n",
    "import seaborn as sns\n",
    "import os , gc, time, urllib, pyodbc, warnings\n",
    "warnings.filterwarnings(\"ignore\")\n",
    "from datetime import date, timedelta\n",
    "import sqlalchemy as sql\n",
    "from sqlalchemy import create_engine\n",
    "from ayx import Alteryx"
   ]
  },
  {
   "cell_type": "markdown",
   "metadata": {},
   "source": [
    "# ETL\n"
   ]
  },
  {
   "cell_type": "code",
   "execution_count": 2,
   "metadata": {},
   "outputs": [
    {
     "data": {
      "text/plain": [
       "<bound method Engine.connect of Engine(mssql+pyodbc:///?odbc_connect=DRIVER%3D%7BSQL+Server+Native+Client+11.0%7D%3BSERVER%3D10.10.220.100%3BDATABASE%3DdbActyon_Enel%3BUID%3Dralisson.local%3BPWD%3DA4TIL%26fRplPn%3BTrusted_Connection%3Dno)>"
      ]
     },
     "execution_count": 2,
     "metadata": {},
     "output_type": "execute_result"
    }
   ],
   "source": [
    "params = urllib.parse.quote_plus(\"DRIVER={SQL Server Native Client 11.0};\"\n",
    "                                 \"SERVER=10.10.220.100;\"\n",
    "                                 \"DATABASE=dbActyon_Enel;\" # trocar o nome da operação\n",
    "                                 \"UID=ralisson.local;\"\n",
    "                                 \"PWD=A4TIL&fRplPn;\"\n",
    "                                 \"Trusted_Connection=no\")\n",
    "engine = sql.create_engine(\"mssql+pyodbc:///?odbc_connect={}\".format(params))\n",
    "engine.connect"
   ]
  },
  {
   "cell_type": "code",
   "execution_count": 3,
   "metadata": {},
   "outputs": [],
   "source": [
    "#Criando variavei de datas para coleta da query sql\n",
    "\n",
    "TODAY = date.today()\n",
    "YESTERDAY = date.today() - timedelta(days=90)\n",
    "data_inicio = f\"{YESTERDAY.year}-{YESTERDAY.month}-{YESTERDAY.day}\" #yesterday \n",
    "data_final = f\"{TODAY.year}-{TODAY.month}-{TODAY.day}\""
   ]
  },
  {
   "cell_type": "code",
   "execution_count": 4,
   "metadata": {},
   "outputs": [
    {
     "name": "stdout",
     "output_type": "stream",
     "text": [
      "tamanho da tabela:  (3797199, 11)\n"
     ]
    },
    {
     "data": {
      "text/plain": [
       "0"
      ]
     },
     "execution_count": 4,
     "metadata": {},
     "output_type": "execute_result"
    }
   ],
   "source": [
    "#Importando dados do banco de dados SQL\n",
    "\n",
    "query = '''\n",
    "\n",
    "    SELECT DISTINCT\n",
    "\n",
    "        tbdevedor.DEVEDOR_ID,\n",
    "        tbdevedor.CEP,\n",
    "        tbdevedor_fone.FONE,\n",
    "        tbdevedor_fone.TIPO,\n",
    "        tbdevedor_fone.STATUS,\n",
    "        tbdevedor_fone.ORIGEM,\n",
    "        tbdevedor.QTDE_TITULOS,\n",
    "        tbdevedor.VALOR_DIVIDA_ATIVA,\n",
    "        tbdevedor.CONT_ID,\n",
    "        tbdevedor_acionamento.ACAO_ID,\n",
    "        tbacao_cobranca.DESCRICAO\n",
    "\n",
    "\n",
    "    FROM tbdevedor\n",
    "        JOIN tbdevedor_acionamento WITH(NOLOCK) ON tbdevedor_acionamento.DEVEDOR_ID = tbdevedor.DEVEDOR_ID\n",
    "        JOIN tbacao_cobranca WITH(NOLOCK) ON tbacao_cobranca.ACAO_ID = tbdevedor_acionamento.ACAO_ID\n",
    "        JOIN tbdevedor_fone WITH(NOLOCK) ON tbdevedor.DEVEDOR_ID = tbdevedor_fone.DEVEDOR_ID\n",
    "        JOIN tbcontratante WITH(NOLOCK) ON tbdevedor.CONT_ID = tbcontratante.CONTRATANTE_ID\n",
    "\n",
    "    WHERE tbcontratante.CONTRATANTE_ID IN ('91', '93', '95', '106', '107', '110', '114','115','116','118','127', '128', '130', '131',\n",
    "                                           '144','168','169', '170', '171', '175', '176', '188', '189' )\n",
    "    AND tbdevedor_acionamento.DATA between \n",
    "\n",
    "'''\n",
    "#df = pd.read_sql(query, engine)\n",
    "df = pd.read_sql(query + f\"'{data_inicio}' AND '{data_final}'\", engine)\n",
    "print(\"tamanho da tabela: \", df.shape)\n",
    "\n",
    "engine.dispose()\n",
    "gc.collect()"
   ]
  },
  {
   "cell_type": "code",
   "execution_count": 5,
   "metadata": {},
   "outputs": [
    {
     "data": {
      "text/plain": [
       "(3337269, 11)"
      ]
     },
     "execution_count": 5,
     "metadata": {},
     "output_type": "execute_result"
    }
   ],
   "source": [
    "df = df.drop_duplicates()\n",
    "df.dropna(inplace=True)\n",
    "#df.dropna(inplace = True)\n",
    "df.shape"
   ]
  },
  {
   "cell_type": "markdown",
   "metadata": {},
   "source": [
    "# Engenharia de Atributos"
   ]
  },
  {
   "cell_type": "code",
   "execution_count": 6,
   "metadata": {},
   "outputs": [],
   "source": [
    "#alterando tipo das featrures\n",
    "df['CEP'] = df['CEP'].astype('category')\n",
    "df['CONT_ID'] = df['CONT_ID'].astype('category')\n",
    "df['TIPO'] = df['TIPO'].astype('category')\n",
    "df['STATUS'] = df['STATUS'].astype('category')\n",
    "df['ORIGEM'] = df['ORIGEM'].astype('category')\n",
    "df['ACAO_ID'] = df['ACAO_ID'].astype('category')\n",
    "df['FONE'] = df['FONE'].astype(str)"
   ]
  },
  {
   "cell_type": "code",
   "execution_count": 7,
   "metadata": {},
   "outputs": [],
   "source": [
    "acionamento = df.groupby(['ACAO_ID', 'DESCRICAO'])['FONE'].count().reset_index()"
   ]
  },
  {
   "cell_type": "code",
   "execution_count": null,
   "metadata": {},
   "outputs": [],
   "source": [
    "acionamento.to_csv('acionamento.csv', sep=';' ,index=False, encoding='latin1')"
   ]
  },
  {
   "cell_type": "markdown",
   "metadata": {},
   "source": [
    "##### importando De Para de Acionamentos"
   ]
  },
  {
   "cell_type": "code",
   "execution_count": 8,
   "metadata": {},
   "outputs": [],
   "source": [
    "# Importando acionamento tratado\n",
    "depara = pd.read_csv('acionamento.csv', sep=';' , encoding='latin1')\n",
    "depara.drop_duplicates(inplace=True)"
   ]
  },
  {
   "cell_type": "code",
   "execution_count": 12,
   "metadata": {},
   "outputs": [
    {
     "data": {
      "text/plain": [
       "0    23\n",
       "1    20\n",
       "Name: TARGET, dtype: int64"
      ]
     },
     "execution_count": 12,
     "metadata": {},
     "output_type": "execute_result"
    }
   ],
   "source": [
    "depara.TARGET.value_counts()"
   ]
  },
  {
   "cell_type": "code",
   "execution_count": 10,
   "metadata": {},
   "outputs": [],
   "source": [
    "df2 = pd.merge(df, depara, how='left', on='DESCRICAO')"
   ]
  },
  {
   "cell_type": "code",
   "execution_count": 11,
   "metadata": {},
   "outputs": [],
   "source": [
    "df2['TARGET'] = df2['TARGET'].fillna(0)"
   ]
  },
  {
   "cell_type": "code",
   "execution_count": 13,
   "metadata": {},
   "outputs": [
    {
     "data": {
      "text/html": [
       "<div>\n",
       "<style scoped>\n",
       "    .dataframe tbody tr th:only-of-type {\n",
       "        vertical-align: middle;\n",
       "    }\n",
       "\n",
       "    .dataframe tbody tr th {\n",
       "        vertical-align: top;\n",
       "    }\n",
       "\n",
       "    .dataframe thead th {\n",
       "        text-align: right;\n",
       "    }\n",
       "</style>\n",
       "<table border=\"1\" class=\"dataframe\">\n",
       "  <thead>\n",
       "    <tr style=\"text-align: right;\">\n",
       "      <th></th>\n",
       "      <th>DEVEDOR_ID</th>\n",
       "      <th>CEP</th>\n",
       "      <th>FONE</th>\n",
       "      <th>TIPO</th>\n",
       "      <th>STATUS</th>\n",
       "      <th>ORIGEM</th>\n",
       "      <th>QTDE_TITULOS</th>\n",
       "      <th>VALOR_DIVIDA_ATIVA</th>\n",
       "      <th>CONT_ID</th>\n",
       "      <th>ACAO_ID</th>\n",
       "      <th>DESCRICAO</th>\n",
       "      <th>TARGET</th>\n",
       "    </tr>\n",
       "  </thead>\n",
       "  <tbody>\n",
       "    <tr>\n",
       "      <th>1896260</th>\n",
       "      <td>34789635</td>\n",
       "      <td></td>\n",
       "      <td>85998176890</td>\n",
       "      <td>C</td>\n",
       "      <td>0</td>\n",
       "      <td>Importação</td>\n",
       "      <td>1.0</td>\n",
       "      <td>284.52</td>\n",
       "      <td>168</td>\n",
       "      <td>7872</td>\n",
       "      <td>MENSAGEM ENTREGUE (SMS)</td>\n",
       "      <td>1.0</td>\n",
       "    </tr>\n",
       "    <tr>\n",
       "      <th>2964699</th>\n",
       "      <td>38269618</td>\n",
       "      <td>62265000</td>\n",
       "      <td>8836391674</td>\n",
       "      <td>R</td>\n",
       "      <td>0</td>\n",
       "      <td>Importação</td>\n",
       "      <td>5.0</td>\n",
       "      <td>423.71</td>\n",
       "      <td>176</td>\n",
       "      <td>7429</td>\n",
       "      <td>NÃO ATENDE</td>\n",
       "      <td>0.0</td>\n",
       "    </tr>\n",
       "    <tr>\n",
       "      <th>849817</th>\n",
       "      <td>13864878</td>\n",
       "      <td></td>\n",
       "      <td>88994679720</td>\n",
       "      <td>C</td>\n",
       "      <td>0</td>\n",
       "      <td>Higienização</td>\n",
       "      <td>1.0</td>\n",
       "      <td>124.55</td>\n",
       "      <td>115</td>\n",
       "      <td>1972</td>\n",
       "      <td>NAO CONSTA NA LISTA TELEFONICA</td>\n",
       "      <td>0.0</td>\n",
       "    </tr>\n",
       "    <tr>\n",
       "      <th>3539470</th>\n",
       "      <td>40793121</td>\n",
       "      <td></td>\n",
       "      <td>85991758173</td>\n",
       "      <td>C</td>\n",
       "      <td>0</td>\n",
       "      <td>Importação</td>\n",
       "      <td>1.0</td>\n",
       "      <td>303.21</td>\n",
       "      <td>168</td>\n",
       "      <td>7872</td>\n",
       "      <td>MENSAGEM ENTREGUE (SMS)</td>\n",
       "      <td>1.0</td>\n",
       "    </tr>\n",
       "    <tr>\n",
       "      <th>3282595</th>\n",
       "      <td>39732346</td>\n",
       "      <td>62590000</td>\n",
       "      <td>85985352947</td>\n",
       "      <td>C</td>\n",
       "      <td>1</td>\n",
       "      <td>Importação</td>\n",
       "      <td>3.0</td>\n",
       "      <td>258.82</td>\n",
       "      <td>175</td>\n",
       "      <td>5747</td>\n",
       "      <td>NÃO IDENTIFICADO</td>\n",
       "      <td>0.0</td>\n",
       "    </tr>\n",
       "    <tr>\n",
       "      <th>1200108</th>\n",
       "      <td>32315092</td>\n",
       "      <td></td>\n",
       "      <td>85999202580</td>\n",
       "      <td>C</td>\n",
       "      <td>0</td>\n",
       "      <td>Importação</td>\n",
       "      <td>1.0</td>\n",
       "      <td>73.56</td>\n",
       "      <td>168</td>\n",
       "      <td>7871</td>\n",
       "      <td>MENSAGEM NÃO ENTREGUE (SMS)</td>\n",
       "      <td>0.0</td>\n",
       "    </tr>\n",
       "    <tr>\n",
       "      <th>44037</th>\n",
       "      <td>1536640</td>\n",
       "      <td></td>\n",
       "      <td>85991606705</td>\n",
       "      <td>C</td>\n",
       "      <td>0</td>\n",
       "      <td>Importação</td>\n",
       "      <td>2.0</td>\n",
       "      <td>1123.54</td>\n",
       "      <td>91</td>\n",
       "      <td>18</td>\n",
       "      <td>NÃO ATENDE</td>\n",
       "      <td>0.0</td>\n",
       "    </tr>\n",
       "    <tr>\n",
       "      <th>447002</th>\n",
       "      <td>12520532</td>\n",
       "      <td>62840000</td>\n",
       "      <td>85992193259</td>\n",
       "      <td>C</td>\n",
       "      <td>0</td>\n",
       "      <td>Higienização</td>\n",
       "      <td>1.0</td>\n",
       "      <td>685.45</td>\n",
       "      <td>114</td>\n",
       "      <td>1883</td>\n",
       "      <td>CONTATO SEM AGENDAMENTO</td>\n",
       "      <td>0.0</td>\n",
       "    </tr>\n",
       "    <tr>\n",
       "      <th>1464063</th>\n",
       "      <td>33179218</td>\n",
       "      <td></td>\n",
       "      <td>85985285154</td>\n",
       "      <td>C</td>\n",
       "      <td>0</td>\n",
       "      <td>Importação</td>\n",
       "      <td>1.0</td>\n",
       "      <td>87.91</td>\n",
       "      <td>168</td>\n",
       "      <td>7872</td>\n",
       "      <td>MENSAGEM ENTREGUE (SMS)</td>\n",
       "      <td>1.0</td>\n",
       "    </tr>\n",
       "    <tr>\n",
       "      <th>189740</th>\n",
       "      <td>11706936</td>\n",
       "      <td></td>\n",
       "      <td>85999219560</td>\n",
       "      <td>O</td>\n",
       "      <td>0</td>\n",
       "      <td>Higienização</td>\n",
       "      <td>1.0</td>\n",
       "      <td>618.03</td>\n",
       "      <td>114</td>\n",
       "      <td>1842</td>\n",
       "      <td>AGENDADO</td>\n",
       "      <td>1.0</td>\n",
       "    </tr>\n",
       "  </tbody>\n",
       "</table>\n",
       "</div>"
      ],
      "text/plain": [
       "         DEVEDOR_ID       CEP         FONE TIPO STATUS        ORIGEM  \\\n",
       "1896260    34789635            85998176890    C      0    Importação   \n",
       "2964699    38269618  62265000   8836391674    R      0    Importação   \n",
       "849817     13864878            88994679720    C      0  Higienização   \n",
       "3539470    40793121            85991758173    C      0    Importação   \n",
       "3282595    39732346  62590000  85985352947    C      1    Importação   \n",
       "1200108    32315092            85999202580    C      0    Importação   \n",
       "44037       1536640            85991606705    C      0    Importação   \n",
       "447002     12520532  62840000  85992193259    C      0  Higienização   \n",
       "1464063    33179218            85985285154    C      0    Importação   \n",
       "189740     11706936            85999219560    O      0  Higienização   \n",
       "\n",
       "         QTDE_TITULOS  VALOR_DIVIDA_ATIVA CONT_ID ACAO_ID  \\\n",
       "1896260           1.0              284.52     168    7872   \n",
       "2964699           5.0              423.71     176    7429   \n",
       "849817            1.0              124.55     115    1972   \n",
       "3539470           1.0              303.21     168    7872   \n",
       "3282595           3.0              258.82     175    5747   \n",
       "1200108           1.0               73.56     168    7871   \n",
       "44037             2.0             1123.54      91      18   \n",
       "447002            1.0              685.45     114    1883   \n",
       "1464063           1.0               87.91     168    7872   \n",
       "189740            1.0              618.03     114    1842   \n",
       "\n",
       "                              DESCRICAO  TARGET  \n",
       "1896260         MENSAGEM ENTREGUE (SMS)     1.0  \n",
       "2964699                      NÃO ATENDE     0.0  \n",
       "849817   NAO CONSTA NA LISTA TELEFONICA     0.0  \n",
       "3539470         MENSAGEM ENTREGUE (SMS)     1.0  \n",
       "3282595                NÃO IDENTIFICADO     0.0  \n",
       "1200108     MENSAGEM NÃO ENTREGUE (SMS)     0.0  \n",
       "44037                        NÃO ATENDE     0.0  \n",
       "447002          CONTATO SEM AGENDAMENTO     0.0  \n",
       "1464063         MENSAGEM ENTREGUE (SMS)     1.0  \n",
       "189740                         AGENDADO     1.0  "
      ]
     },
     "execution_count": 13,
     "metadata": {},
     "output_type": "execute_result"
    }
   ],
   "source": [
    "df2.sample(10)"
   ]
  },
  {
   "cell_type": "code",
   "execution_count": 14,
   "metadata": {},
   "outputs": [],
   "source": [
    "df = df2"
   ]
  },
  {
   "cell_type": "code",
   "execution_count": 19,
   "metadata": {},
   "outputs": [
    {
     "data": {
      "text/plain": [
       "<AxesSubplot:>"
      ]
     },
     "execution_count": 19,
     "metadata": {},
     "output_type": "execute_result"
    },
    {
     "data": {
      "image/png": "[encoded data removed]",
      "text/plain": [
       "<Figure size 432x288 with 1 Axes>"
      ]
     },
     "metadata": {
      "needs_background": "light"
     },
     "output_type": "display_data"
    }
   ],
   "source": [
    "df.sample(frac=0.1).boxplot('VALOR_DIVIDA_ATIVA')"
   ]
  },
  {
   "cell_type": "code",
   "execution_count": 20,
   "metadata": {},
   "outputs": [
    {
     "data": {
      "text/plain": [
       "<AxesSubplot:>"
      ]
     },
     "execution_count": 20,
     "metadata": {},
     "output_type": "execute_result"
    },
    {
     "data": {
      "image/png": "[encoded data removed]",
      "text/plain": [
       "<Figure size 432x288 with 1 Axes>"
      ]
     },
     "metadata": {
      "needs_background": "light"
     },
     "output_type": "display_data"
    }
   ],
   "source": [
    "df.sample(frac=0.1).boxplot('QTDE_TITULOS')"
   ]
  },
  {
   "cell_type": "code",
   "execution_count": 18,
   "metadata": {},
   "outputs": [
    {
     "data": {
      "text/plain": [
       "(3292515, 12)"
      ]
     },
     "execution_count": 18,
     "metadata": {},
     "output_type": "execute_result"
    }
   ],
   "source": [
    "df = df.query('VALOR_DIVIDA_ATIVA < 1000')\n",
    "df = df.query('QTDE_TITULOS < 20 ')\n",
    "df.shape"
   ]
  },
  {
   "cell_type": "code",
   "execution_count": 21,
   "metadata": {},
   "outputs": [
    {
     "data": {
      "text/plain": [
       "DEVEDOR_ID            0\n",
       "CEP                   0\n",
       "FONE                  0\n",
       "TIPO                  0\n",
       "STATUS                0\n",
       "ORIGEM                0\n",
       "QTDE_TITULOS          0\n",
       "VALOR_DIVIDA_ATIVA    0\n",
       "CONT_ID               0\n",
       "ACAO_ID               0\n",
       "DESCRICAO             0\n",
       "TARGET                0\n",
       "dtype: int64"
      ]
     },
     "execution_count": 21,
     "metadata": {},
     "output_type": "execute_result"
    }
   ],
   "source": [
    "df.isna().sum()"
   ]
  },
  {
   "cell_type": "markdown",
   "metadata": {},
   "source": [
    "# Pre Processamento dos dados"
   ]
  },
  {
   "cell_type": "markdown",
   "metadata": {},
   "source": [
    "## Balanceamento de Variáveis"
   ]
  },
  {
   "cell_type": "code",
   "execution_count": 22,
   "metadata": {},
   "outputs": [
    {
     "data": {
      "text/plain": [
       "0.0    1678651\n",
       "1.0    1613864\n",
       "Name: TARGET, dtype: int64"
      ]
     },
     "execution_count": 22,
     "metadata": {},
     "output_type": "execute_result"
    }
   ],
   "source": [
    "df.TARGET.value_counts()"
   ]
  },
  {
   "cell_type": "code",
   "execution_count": 23,
   "metadata": {},
   "outputs": [
    {
     "name": "stdout",
     "output_type": "stream",
     "text": [
      "Class 0: 1678651\n",
      "Class 1: 1613864\n",
      "Proportion: 1.04 : 1\n"
     ]
    },
    {
     "data": {
      "image/png": "[encoded data removed]",
      "text/plain": [
       "<Figure size 432x288 with 1 Axes>"
      ]
     },
     "metadata": {
      "needs_background": "light"
     },
     "output_type": "display_data"
    }
   ],
   "source": [
    "target_count = df['TARGET'].value_counts()\n",
    "print('Class 0:', target_count[0])\n",
    "print('Class 1:', target_count[1])\n",
    "print('Proportion:', round(target_count[0] / target_count[1], 2), ': 1')\n",
    "target_count.plot(kind='bar', title='Count (TARGET)',color = ['#1F77B4', '#FF7F0E']);"
   ]
  },
  {
   "cell_type": "code",
   "execution_count": 24,
   "metadata": {},
   "outputs": [
    {
     "name": "stdout",
     "output_type": "stream",
     "text": [
      "Random under-sampling:\n",
      "0.0    1613864\n",
      "1.0    1613864\n",
      "Name: TARGET, dtype: int64\n"
     ]
    },
    {
     "data": {
      "image/png": "[encoded data removed]",
      "text/plain": [
       "<Figure size 432x288 with 1 Axes>"
      ]
     },
     "metadata": {
      "needs_background": "light"
     },
     "output_type": "display_data"
    }
   ],
   "source": [
    "# CONTAR CLASSES\n",
    "count_class_0, count_class_1 = df['TARGET'].value_counts()\n",
    "# Divide by class\n",
    "df_class_0 = df[df['TARGET'] == 0]\n",
    "df_class_1 = df[df['TARGET'] == 1]\n",
    "df_class_0_under = df_class_0.sample(count_class_1)\n",
    "df = pd.concat([df_class_0_under, df_class_1], axis=0)\n",
    "print('Random under-sampling:')\n",
    "print(df['TARGET'].value_counts())\n",
    "df['TARGET'].value_counts().plot(kind='bar', title='Count (TARGET)',color = ['#1F77B4', '#FF7F0E']);"
   ]
  },
  {
   "cell_type": "code",
   "execution_count": 25,
   "metadata": {},
   "outputs": [
    {
     "data": {
      "text/plain": [
       "0.0    1613864\n",
       "1.0    1613864\n",
       "Name: TARGET, dtype: int64"
      ]
     },
     "execution_count": 25,
     "metadata": {},
     "output_type": "execute_result"
    }
   ],
   "source": [
    "df.TARGET.value_counts()"
   ]
  },
  {
   "cell_type": "code",
   "execution_count": 33,
   "metadata": {},
   "outputs": [],
   "source": [
    "features = df[[ 'QTDE_TITULOS', 'VALOR_DIVIDA_ATIVA', 'CEP', 'CONT_ID', 'TIPO' , 'ORIGEM']] #STATUS\n",
    "target = df[['TARGET']]"
   ]
  },
  {
   "cell_type": "markdown",
   "metadata": {},
   "source": [
    "## Padronização ou Normalização das variáveis"
   ]
  },
  {
   "cell_type": "code",
   "execution_count": 34,
   "metadata": {},
   "outputs": [],
   "source": [
    "from sklearn.preprocessing import LabelEncoder\n",
    "le = LabelEncoder()\n",
    "features['CONT_ID']= le.fit_transform(features[\"CONT_ID\"])\n",
    "features['CEP']= le.fit_transform(features[\"CEP\"])\n",
    "features['TIPO']= le.fit_transform(features[\"TIPO\"])\n",
    "#features['STATUS']= le.fit_transform(features[\"STATUS\"])\n",
    "features['ORIGEM']= le.fit_transform(features[\"ORIGEM\"])\n",
    "\n",
    "\n",
    "from sklearn.preprocessing import StandardScaler\n",
    "\n",
    "scaler = StandardScaler()\n",
    "features['QTDE_TITULOS'] = scaler.fit_transform(features[['QTDE_TITULOS']])\n",
    "features['VALOR_DIVIDA_ATIVA'] = scaler.fit_transform(features[['VALOR_DIVIDA_ATIVA']])\n"
   ]
  },
  {
   "cell_type": "markdown",
   "metadata": {},
   "source": [
    "# Modelagem preditiva"
   ]
  },
  {
   "cell_type": "code",
   "execution_count": 35,
   "metadata": {},
   "outputs": [],
   "source": [
    "from sklearn.model_selection import KFold\n",
    "from sklearn.model_selection import cross_val_score\n",
    "from sklearn.neural_network import MLPClassifier\n",
    "from sklearn.model_selection import cross_val_score\n",
    "from sklearn.metrics import confusion_matrix\n",
    "from sklearn.metrics import classification_report\n",
    "from sklearn.ensemble import RandomForestClassifier\n",
    "from sklearn.ensemble import GradientBoostingClassifier\n",
    "from xgboost import XGBClassifier\n",
    "from sklearn.model_selection import train_test_split"
   ]
  },
  {
   "cell_type": "code",
   "execution_count": 36,
   "metadata": {},
   "outputs": [
    {
     "name": "stdout",
     "output_type": "stream",
     "text": [
      "[21:54:08] WARNING: C:/Users/Administrator/workspace/xgboost-win64_release_1.4.0/src/learner.cc:1095: Starting in XGBoost 1.3.0, the default evaluation metric used with the objective 'binary:logistic' was changed from 'error' to 'logloss'. Explicitly set eval_metric if you'd like to restore the old behavior.\n",
      "[21:57:40] WARNING: C:/Users/Administrator/workspace/xgboost-win64_release_1.4.0/src/learner.cc:1095: Starting in XGBoost 1.3.0, the default evaluation metric used with the objective 'binary:logistic' was changed from 'error' to 'logloss'. Explicitly set eval_metric if you'd like to restore the old behavior.\n",
      "[22:00:34] WARNING: C:/Users/Administrator/workspace/xgboost-win64_release_1.4.0/src/learner.cc:1095: Starting in XGBoost 1.3.0, the default evaluation metric used with the objective 'binary:logistic' was changed from 'error' to 'logloss'. Explicitly set eval_metric if you'd like to restore the old behavior.\n",
      "[22:04:03] WARNING: C:/Users/Administrator/workspace/xgboost-win64_release_1.4.0/src/learner.cc:1095: Starting in XGBoost 1.3.0, the default evaluation metric used with the objective 'binary:logistic' was changed from 'error' to 'logloss'. Explicitly set eval_metric if you'd like to restore the old behavior.\n",
      "A Acurácia foi de: 61.576%\n",
      "              precision    recall  f1-score   support\n",
      "\n",
      "         0.0       0.65      0.51      0.57    532173\n",
      "         1.0       0.60      0.73      0.65    532978\n",
      "\n",
      "    accuracy                           0.62   1065151\n",
      "   macro avg       0.62      0.62      0.61   1065151\n",
      "weighted avg       0.62      0.62      0.61   1065151\n",
      "\n"
     ]
    }
   ],
   "source": [
    "# Separando as features e target\n",
    "X = features\n",
    "Y = target\n",
    "\n",
    "# Divide os dados em treino e teste\n",
    "X_train, X_test, Y_train, Y_test = train_test_split(X, Y, test_size = 0.33, random_state = 5)\n",
    "\n",
    "# Criando o modelo\n",
    "#Model = RandomForestClassifier(n_estimators=100)\n",
    "#Model = GradientBoostingClassifier(n_estimators=150,  learning_rate=0.1)\n",
    "#Model = MLPClassifier(hidden_layer_sizes=(50,50,50), alpha=0.01 )\n",
    "Model = XGBClassifier(nthread = 48, objective = 'binary:logistic',  max_depth = 12, n_estimators=100) \n",
    "\n",
    "# Definindo os valores para o número de folds\n",
    "num_folds = 3\n",
    "seed = 7\n",
    "    \n",
    "# Separando os dados em folds\n",
    "kfold = KFold(num_folds, True, random_state = seed)    \n",
    "\n",
    "# Treinando o modelo\n",
    "Model.fit(X_train, Y_train)\n",
    "\n",
    "# Previsão do modelo\n",
    "Predict = Model.predict(X_test)\n",
    "\n",
    "# Acurácia final e ROC\n",
    "resultadoAC = cross_val_score(Model, X, Y, cv = kfold, scoring = 'accuracy')\n",
    "#resultadoROC = cross_val_score(Model, X, Y, cv = kfold, scoring = 'roc_auc')\n",
    "\n",
    "print(\"A Acurácia foi de: %.3f%%\" % (resultadoAC.mean() * 100.0))\n",
    "#print(\"ROC foi de: %.3f\" % (resultadoROC.mean() * 100))\n",
    "\n",
    "report = classification_report(Y_test, Predict)\n",
    "\n",
    "# Imprimindo o relatório\n",
    "print(report)"
   ]
  },
  {
   "cell_type": "code",
   "execution_count": 37,
   "metadata": {},
   "outputs": [
    {
     "name": "stdout",
     "output_type": "stream",
     "text": [
      "              precision    recall  f1-score   support\n",
      "\n",
      "         0.0       0.65      0.51      0.57    532173\n",
      "         1.0       0.60      0.73      0.65    532978\n",
      "\n",
      "    accuracy                           0.62   1065151\n",
      "   macro avg       0.62      0.62      0.61   1065151\n",
      "weighted avg       0.62      0.62      0.61   1065151\n",
      "\n"
     ]
    }
   ],
   "source": [
    "print(report)"
   ]
  },
  {
   "cell_type": "markdown",
   "metadata": {},
   "source": [
    "## Análise de Features e Acurácia"
   ]
  },
  {
   "cell_type": "code",
   "execution_count": 38,
   "metadata": {},
   "outputs": [
    {
     "data": {
      "text/html": [
       "<div>\n",
       "<style scoped>\n",
       "    .dataframe tbody tr th:only-of-type {\n",
       "        vertical-align: middle;\n",
       "    }\n",
       "\n",
       "    .dataframe tbody tr th {\n",
       "        vertical-align: top;\n",
       "    }\n",
       "\n",
       "    .dataframe thead th {\n",
       "        text-align: right;\n",
       "    }\n",
       "</style>\n",
       "<table border=\"1\" class=\"dataframe\">\n",
       "  <thead>\n",
       "    <tr style=\"text-align: right;\">\n",
       "      <th></th>\n",
       "      <th>importance</th>\n",
       "    </tr>\n",
       "  </thead>\n",
       "  <tbody>\n",
       "    <tr>\n",
       "      <th>CEP</th>\n",
       "      <td>0.383051</td>\n",
       "    </tr>\n",
       "    <tr>\n",
       "      <th>CONT_ID</th>\n",
       "      <td>0.250332</td>\n",
       "    </tr>\n",
       "    <tr>\n",
       "      <th>ORIGEM</th>\n",
       "      <td>0.112101</td>\n",
       "    </tr>\n",
       "    <tr>\n",
       "      <th>VALOR_DIVIDA_ATIVA</th>\n",
       "      <td>0.102481</td>\n",
       "    </tr>\n",
       "    <tr>\n",
       "      <th>TIPO</th>\n",
       "      <td>0.076827</td>\n",
       "    </tr>\n",
       "    <tr>\n",
       "      <th>QTDE_TITULOS</th>\n",
       "      <td>0.075208</td>\n",
       "    </tr>\n",
       "  </tbody>\n",
       "</table>\n",
       "</div>"
      ],
      "text/plain": [
       "                    importance\n",
       "CEP                   0.383051\n",
       "CONT_ID               0.250332\n",
       "ORIGEM                0.112101\n",
       "VALOR_DIVIDA_ATIVA    0.102481\n",
       "TIPO                  0.076827\n",
       "QTDE_TITULOS          0.075208"
      ]
     },
     "execution_count": 38,
     "metadata": {},
     "output_type": "execute_result"
    }
   ],
   "source": [
    "# Seleção dos melhores atributos como resultado para a modelagem CPC\n",
    "gc.collect()\n",
    "Model.feature_importances_\n",
    "feature_importances = pd.DataFrame(Model.feature_importances_,\n",
    "                                   index = X.columns,\n",
    "                                   columns=['importance']).sort_values('importance', ascending=False)\n",
    "feature_importances\n",
    "\n"
   ]
  },
  {
   "cell_type": "code",
   "execution_count": 39,
   "metadata": {},
   "outputs": [
    {
     "name": "stdout",
     "output_type": "stream",
     "text": [
      "Modelo salvo!\n",
      "Nomes Salvo\n"
     ]
    }
   ],
   "source": [
    "# Salvando o modelo Propensao a pagar\n",
    "import pickle\n",
    "\n",
    "arquivo_cpf = 'modelo_v1.sav'\n",
    "pickle.dump(Model, open(arquivo_cpf, 'wb'))\n",
    "print(\"Modelo salvo!\")\n",
    "\n",
    "# Salvar as features do modelo\n",
    "with open('NameFeature_v1','wb') as arquivo_cpf:\n",
    "   pickle.dump(features.columns, arquivo_cpf)\n",
    "\n",
    "print('Nomes Salvo')"
   ]
  }
 ],
 "metadata": {
  "interpreter": {
   "hash": "3e7ffb16807c612527859a4be59be6cdfc3f0bdfc5c07886aa766faef6ede9b2"
  },
  "kernelspec": {
   "display_name": "Python 3.8.8 64-bit ('base': conda)",
   "name": "python3"
  },
  "language_info": {
   "codemirror_mode": {
    "name": "ipython",
    "version": 3
   },
   "file_extension": ".py",
   "mimetype": "text/x-python",
   "name": "python",
   "nbconvert_exporter": "python",
   "pygments_lexer": "ipython3",
   "version": "3.8.8"
  }
 },
 "nbformat": 4,
 "nbformat_minor": 4
}
